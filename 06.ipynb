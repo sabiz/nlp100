{
 "cells": [
  {
   "cell_type": "code",
   "execution_count": 8,
   "metadata": {},
   "outputs": [
    {
     "name": "stdout",
     "output_type": "stream",
     "text": [
      "{'di', 'is', 'ap', 'se', 'ar', 'ad', 'pa', 'ra'}\n",
      "{'ph', 'gr', 'ap', 'ag', 'ar', 'pa', 'ra'}\n",
      "{'ph', 'di', 'is', 'ap', 'se', 'gr', 'ar', 'ad', 'pa', 'ag', 'ra'}\n",
      "{'ap', 'ar', 'pa', 'ra'}\n",
      "{'se', 'is', 'ad', 'di'}\n",
      "True\n",
      "False\n"
     ]
    }
   ],
   "source": [
    "def n_gram(text, n):\n",
    "    result = []\n",
    "    for i in range(0,len(text)-(n-1)):\n",
    "        result.append(text[i:i+n])\n",
    "    return result\n",
    "\n",
    "text1 = \"paraparaparadise\"\n",
    "text2 = \"paragraph\"\n",
    "\n",
    "X = set(n_gram(text1, 2))\n",
    "Y = set(n_gram(text2, 2))\n",
    "\n",
    "print(X)\n",
    "print(Y)\n",
    "print(X|Y)\n",
    "print(X&Y)\n",
    "print(X-Y)\n",
    "print(\"se\" in X)\n",
    "print(\"se\" in Y)"
   ]
  },
  {
   "cell_type": "code",
   "execution_count": null,
   "metadata": {
    "collapsed": true
   },
   "outputs": [],
   "source": []
  }
 ],
 "metadata": {
  "kernelspec": {
   "display_name": "Python 3",
   "language": "python",
   "name": "python3"
  },
  "language_info": {
   "codemirror_mode": {
    "name": "ipython",
    "version": 3
   },
   "file_extension": ".py",
   "mimetype": "text/x-python",
   "name": "python",
   "nbconvert_exporter": "python",
   "pygments_lexer": "ipython3",
   "version": "3.6.3"
  }
 },
 "nbformat": 4,
 "nbformat_minor": 2
}
