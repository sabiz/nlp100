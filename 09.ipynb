{
 "cells": [
  {
   "cell_type": "code",
   "execution_count": 36,
   "metadata": {},
   "outputs": [
    {
     "data": {
      "text/plain": [
       "\"I cu'onldt beveile that I cuold altlcauy uesdrantnd what I was ranideg : the poehmnnael pewor of the hmuan mind .\""
      ]
     },
     "execution_count": 36,
     "metadata": {},
     "output_type": "execute_result"
    }
   ],
   "source": [
    "import random\n",
    "from functools import reduce\n",
    "\n",
    "text = \"I couldn't believe that I could actually understand what I was reading : the phenomenal power of the human mind .\"\n",
    "\n",
    "def typoglycemia(r, w):\n",
    "    if len(w) <= 4:\n",
    "        return r+\" \"+w\n",
    "    else:\n",
    "        sub = list(w[1:-1])\n",
    "        random.shuffle(sub)\n",
    "        return r + \" \" + w[0] + ''.join(sub) + w[-1]\n",
    "\n",
    "reduce(typoglycemia,text.split(' '))"
   ]
  },
  {
   "cell_type": "code",
   "execution_count": null,
   "metadata": {
    "collapsed": true
   },
   "outputs": [],
   "source": []
  }
 ],
 "metadata": {
  "kernelspec": {
   "display_name": "Python 3",
   "language": "python",
   "name": "python3"
  },
  "language_info": {
   "codemirror_mode": {
    "name": "ipython",
    "version": 3
   },
   "file_extension": ".py",
   "mimetype": "text/x-python",
   "name": "python",
   "nbconvert_exporter": "python",
   "pygments_lexer": "ipython3",
   "version": "3.6.3"
  }
 },
 "nbformat": 4,
 "nbformat_minor": 2
}
